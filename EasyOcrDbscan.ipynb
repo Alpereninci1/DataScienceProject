{
  "nbformat": 4,
  "nbformat_minor": 0,
  "metadata": {
    "colab": {
      "name": "EasyOcrDbscan.ipynb",
      "provenance": []
    },
    "kernelspec": {
      "name": "python3",
      "display_name": "Python 3"
    },
    "language_info": {
      "name": "python"
    }
  },
  "cells": [
    {
      "cell_type": "code",
      "execution_count": null,
      "metadata": {
        "id": "oG0WdvWRhn9-"
      },
      "outputs": [],
      "source": [
        "!pip install torch torchvision torchaudio\n",
        "!pip install easyocr"
      ]
    },
    {
      "cell_type": "code",
      "source": [
        "!pip uninstall opencv-python-headless==4.5.5.62 \n",
        "!pip install opencv-python-headless==4.1.2.30"
      ],
      "metadata": {
        "id": "Uz-ZudwFh048"
      },
      "execution_count": null,
      "outputs": []
    },
    {
      "cell_type": "code",
      "source": [
        "import easyocr\n",
        "#download the model\n",
        "reader = easyocr.Reader(['tr','en'], gpu = False)"
      ],
      "metadata": {
        "id": "WT9vUQZwh4wU"
      },
      "execution_count": null,
      "outputs": []
    },
    {
      "cell_type": "code",
      "source": [
        "# show an image\n",
        "import PIL\n",
        "import cv2\n",
        "from PIL import ImageDraw\n",
        "image_path='page3.jpg'\n",
        "im = PIL.Image.open(image_path)\n",
        "#im = PIL.Image.open(\"france.jfif\")\n",
        "width,height=im.size\n",
        "\n",
        "print(width,height)\n",
        "\n",
        "im"
      ],
      "metadata": {
        "id": "2uSnK0kjiBZs"
      },
      "execution_count": null,
      "outputs": []
    },
    {
      "cell_type": "code",
      "source": [
        "# Doing OCR. Get bounding boxes.\n",
        "bounds = reader.readtext(image_path)\n",
        "bounds"
      ],
      "metadata": {
        "id": "1W8nzYLBiEE0"
      },
      "execution_count": null,
      "outputs": []
    },
    {
      "cell_type": "code",
      "source": [
        "# Draw bounding boxes\n",
        "def draw_boxes(image, bounds, color='red', width=2):\n",
        "    draw = ImageDraw.Draw(image)\n",
        "    for bound in bounds:\n",
        "        p0, p1, p2, p3 = bound[0]\n",
        "        draw.line([*p0, *p1, *p2, *p3, *p0], fill=color, width=width)\n",
        "    return image\n",
        "\n",
        "draw_boxes(im, bounds)"
      ],
      "metadata": {
        "id": "DZJlhGWRiGn8"
      },
      "execution_count": null,
      "outputs": []
    },
    {
      "cell_type": "code",
      "source": [
        "import cv2\n",
        "import numpy as np\n",
        "from google.colab.patches import cv2_imshow\n",
        "img = cv2.imread(image_path, cv2.IMREAD_UNCHANGED)\n",
        "print(img.shape)\n",
        "points=[]\n",
        "points_2=[]\n",
        "points_3 = []\n",
        "for bound in bounds:\n",
        "    p0, p1, p2, p3 = bound[0]\n",
        "    midX=int(p0[0])\n",
        "    midY=int((p0[1]+p1[1]+p2[1]+p3[1])/4)\n",
        "    arr=(midX,midY)\n",
        "    points.append(arr)\n",
        "    x1=midX/width\n",
        "    y1=midY/height\n",
        "    arr2=(x1,y1)\n",
        "    #points_2.append(arr2)\n",
        "    points_2.append((p0[0]/width,p0[0]/width))\n",
        "    points_2.append((p3[0]/width,p3[0]/width))\n",
        "    points_3.append((p0[1]/height,p0[1]/height))\n",
        "    points_3.append((p3[1]/height,p3[1]/height))\n",
        "    cv2.circle(img,(midX,midY), 10, (0,0,255), -1)\n",
        "\n",
        "cv2_imshow(img)       "
      ],
      "metadata": {
        "id": "AV7s-S_fiJC9"
      },
      "execution_count": null,
      "outputs": []
    },
    {
      "cell_type": "code",
      "source": [
        "import numpy as np\n",
        "import pandas as pd\n",
        "import matplotlib.pyplot as plt\n",
        "from sklearn.cluster import DBSCAN\n",
        "X=np.array(points_2)#orta noktaları numpy array'e çevirdim."
      ],
      "metadata": {
        "id": "-mWHNW4hgJJ3"
      },
      "execution_count": null,
      "outputs": []
    },
    {
      "cell_type": "code",
      "source": [
        "#x ler için \n",
        "dbscan = DBSCAN(eps = 0.02, min_samples = 4)\n",
        "model = dbscan.fit(X)\n",
        "labels=model.labels_\n",
        "plt.gca().invert_yaxis()\n",
        "plt.scatter(X[:,0], np.zeros(len(X[:,0])),c=labels,s=80);\n",
        "\n",
        "X_df = pd.DataFrame(X)\n",
        "db_cluster = pd.DataFrame(labels)  \n",
        "\n",
        "df = pd.concat([X_df, db_cluster], axis=1)\n",
        "df.columns = ['Feature 1', 'Feature 2', 'db_cluster']\n",
        "df.head()\n",
        "\n",
        "view_cluster = df['db_cluster'].value_counts().T\n",
        "view_cluster = pd.DataFrame(data=view_cluster)\n",
        "view_cluster = view_cluster.reset_index()\n",
        "view_cluster.columns = ['db_cluster', 'count']\n",
        "view_cluster.sort_values(by='db_cluster', ascending=False)\n",
        "\n",
        "\n",
        "#elde ettiğimiz clusterların centerları yazılacak.\n",
        "#dikey çizgi çizdirilecek."
      ],
      "metadata": {
        "id": "i_TCFKKgiL_E"
      },
      "execution_count": null,
      "outputs": []
    },
    {
      "cell_type": "code",
      "source": [
        "#Centerları bul dbscan X\n",
        "cluster_count=len(db_cluster.value_counts())\n",
        "centers=[]\n",
        "for i in range(0,cluster_count-1):\n",
        "  points_of_cluster= X[labels==i,:]\n",
        "  print(len(points_of_cluster))\n",
        "  centroid_of_cluster = np.mean(points_of_cluster, axis=0)\n",
        "  centers.append(centroid_of_cluster)\n",
        "  \n",
        "arr_center=np.array(centers)\n",
        "\n",
        "plt.vlines(arr_center,0,1,color='blue')\n",
        "plt.grid()\n",
        "plt.show()\n"
      ],
      "metadata": {
        "id": "Nk5dUUJytcea"
      },
      "execution_count": null,
      "outputs": []
    },
    {
      "cell_type": "code",
      "source": [
        "import numpy as np\n",
        "import matplotlib.pyplot as plt\n",
        "from sklearn.cluster import DBSCAN\n",
        "Y=np.array(points_3)#orta noktaları numpy array'e çevirdim."
      ],
      "metadata": {
        "id": "XSTGKTC3gRYH"
      },
      "execution_count": null,
      "outputs": []
    },
    {
      "cell_type": "code",
      "source": [
        "#y ler için \n",
        "dbscan = DBSCAN(eps = 0.02, min_samples = 4)\n",
        "model = dbscan.fit(Y)\n",
        "labels_y= model.labels_\n",
        "plt.gca().invert_yaxis()\n",
        "plt.scatter(Y[:,0], np.zeros(len(Y[:,0])),c=labels_y,s=80);\n",
        "\n",
        "Y_df = pd.DataFrame(Y)\n",
        "db_cluster_Y = pd.DataFrame(labels_y)  \n",
        "\n",
        "df = pd.concat([Y_df, db_cluster_Y], axis=1)\n",
        "df.columns = ['Feature 1', 'Feature 2', 'db_cluster_Y']\n",
        "df.head()\n",
        "\n",
        "view_cluster = df['db_cluster_Y'].value_counts().T\n",
        "view_cluster = pd.DataFrame(data=view_cluster)\n",
        "view_cluster = view_cluster.reset_index()\n",
        "view_cluster.columns = ['db_cluster_Y', 'count']\n",
        "view_cluster.sort_values(by='db_cluster_Y', ascending=False)\n"
      ],
      "metadata": {
        "id": "mD3T1HCxIBH6"
      },
      "execution_count": null,
      "outputs": []
    },
    {
      "cell_type": "code",
      "source": [
        "#Centerları bul dbscan y\n",
        "cluster_count=len(db_cluster_Y.value_counts())\n",
        "centers=[]\n",
        "for i in range(0,cluster_count-1):\n",
        "  points_of_cluster= Y[labels==i,:]\n",
        "  print(len(points_of_cluster))\n",
        "  centroid_of_cluster = np.mean(points_of_cluster, axis=0)\n",
        "  centers.append(centroid_of_cluster)\n",
        "\n",
        "arr_center_y=np.array(centers)\n",
        "print(arr_center_y)\n",
        "plt.hlines(arr_center_y,0,1,color='red')\n",
        "plt.grid()\n",
        "plt.show()"
      ],
      "metadata": {
        "id": "YAp4pEIjIG2Y"
      },
      "execution_count": null,
      "outputs": []
    },
    {
      "cell_type": "code",
      "source": [
        "#Aynı resim üzerinde çizimi dbscan\n",
        "#Aynı resim üzerinde çizimi\n",
        "plt.vlines(arr_center,0,1,color='blue')\n",
        "plt.hlines(arr_center_y,0,1,color='red')\n",
        "plt.grid()\n",
        "plt.show()"
      ],
      "metadata": {
        "id": "s2Haljbvo79d"
      },
      "execution_count": null,
      "outputs": []
    },
    {
      "cell_type": "code",
      "source": [
        "arr_lines_x=(arr_center*width)\n",
        "arr_lines_y=(arr_center_y*height)\n",
        "data_int_x = arr_lines_x.astype(int)\n",
        "data_int_y = arr_lines_y.astype(int)\n",
        "\n",
        "plt.vlines(data_int_x,2000,1,color='blue')\n",
        "plt.hlines(data_int_y,1500,1,color='red')\n",
        "\n",
        "plt.imshow(img)"
      ],
      "metadata": {
        "id": "Z_UYtAHoxGsK"
      },
      "execution_count": null,
      "outputs": []
    }
  ]
}