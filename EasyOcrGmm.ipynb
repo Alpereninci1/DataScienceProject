{
  "nbformat": 4,
  "nbformat_minor": 0,
  "metadata": {
    "colab": {
      "name": "EasyOcrGmm.ipynb",
      "provenance": []
    },
    "kernelspec": {
      "name": "python3",
      "display_name": "Python 3"
    },
    "language_info": {
      "name": "python"
    }
  },
  "cells": [
    {
      "cell_type": "code",
      "execution_count": null,
      "metadata": {
        "id": "BXXCGdGNtkW2"
      },
      "outputs": [],
      "source": [
        "!pip install torch torchvision torchaudio\n",
        "!pip install easyocr\n",
        "!pip install gmm"
      ]
    },
    {
      "cell_type": "code",
      "source": [
        "!pip uninstall opencv-python-headless==4.5.5.62 \n",
        "!pip install opencv-python-headless==4.1.2.30"
      ],
      "metadata": {
        "id": "2mZv2pHXtx90"
      },
      "execution_count": null,
      "outputs": []
    },
    {
      "cell_type": "code",
      "source": [
        "import easyocr\n",
        "#download the model\n",
        "reader = easyocr.Reader(['tr','en'], gpu = False)"
      ],
      "metadata": {
        "id": "r7zx_wnqt3O8"
      },
      "execution_count": null,
      "outputs": []
    },
    {
      "cell_type": "code",
      "source": [
        "# show an image\n",
        "import PIL\n",
        "import cv2\n",
        "from PIL import ImageDraw\n",
        "image_path='page3.jpg'\n",
        "im = PIL.Image.open(image_path)\n",
        "#im = PIL.Image.open(\"france.jfif\")\n",
        "width,height=im.size\n",
        "\n",
        "print(width,height)\n",
        "\n",
        "im"
      ],
      "metadata": {
        "id": "UKlkqjZst5-s"
      },
      "execution_count": null,
      "outputs": []
    },
    {
      "cell_type": "code",
      "source": [
        "bounds = reader.readtext(image_path)\n",
        "bounds"
      ],
      "metadata": {
        "id": "Th2MxTlDuADM"
      },
      "execution_count": null,
      "outputs": []
    },
    {
      "cell_type": "code",
      "source": [
        "# Draw bounding boxes\n",
        "def draw_boxes(image, bounds, color='red', width=2):\n",
        "    draw = ImageDraw.Draw(image)\n",
        "    for bound in bounds:\n",
        "        p0, p1, p2, p3 = bound[0]\n",
        "        draw.line([*p0, *p1, *p2, *p3, *p0], fill=color, width=width)\n",
        "    return image\n",
        "\n",
        "draw_boxes(im, bounds)"
      ],
      "metadata": {
        "id": "_zPKNVt5uFND"
      },
      "execution_count": null,
      "outputs": []
    },
    {
      "cell_type": "code",
      "source": [
        "import cv2\n",
        "import numpy as np\n",
        "from google.colab.patches import cv2_imshow\n",
        "img = cv2.imread(image_path, cv2.IMREAD_UNCHANGED)\n",
        "print(img.shape)\n",
        "points=[]\n",
        "points_2=[]\n",
        "points_3 = []\n",
        "for bound in bounds:\n",
        "    p0, p1, p2, p3 = bound[0]\n",
        "    midX=int(p0[0])\n",
        "    midY=int((p0[1]+p1[1]+p2[1]+p3[1])/4)\n",
        "    arr=(midX,midY)\n",
        "    points.append(arr)\n",
        "    x1=midX/width\n",
        "    y1=midY/height\n",
        "    arr2=(x1,y1)\n",
        "    print(p0,p1,p2,p3)\n",
        "    #points_2.append(arr2)\n",
        "    points_2.append((p0[0]/width,p0[0]/width))\n",
        "    points_2.append((p2[0]/width,p2[0]/width))\n",
        "    points_3.append((p0[1]/height,p0[1]/height))\n",
        "    points_3.append((p2[1]/height,p2[1]/height))\n",
        "    cv2.circle(img,(midX,midY), 10, (0,0,255), -1)\n",
        "\n",
        "cv2_imshow(img)"
      ],
      "metadata": {
        "id": "wZsE3YUuuGG1"
      },
      "execution_count": null,
      "outputs": []
    },
    {
      "cell_type": "code",
      "source": [
        "import numpy as np\n",
        "import pandas as pd\n",
        "import matplotlib.pyplot as plt\n",
        "from sklearn.mixture import GaussianMixture\n",
        "X=np.array(points_2)#orta noktaları numpy array'e çevirdim."
      ],
      "metadata": {
        "id": "X4oshW9yuUmz"
      },
      "execution_count": null,
      "outputs": []
    },
    {
      "cell_type": "code",
      "source": [
        "#x ler için GMM\n",
        "gmm = GaussianMixture(n_components=8).fit(X)\n",
        "labels = gmm.predict(X)\n",
        "plt.gca().invert_yaxis()\n",
        "plt.scatter(X[:, 0], np.zeros(len(X[:,0])), c=labels, s=60,  cmap='viridis');\n",
        "\n",
        "X_df = pd.DataFrame(X)\n",
        "gmm_cluster = pd.DataFrame(labels)  \n",
        "\n",
        "df = pd.concat([X_df, gmm_cluster], axis=1)\n",
        "df.columns = ['Feature 1', 'Feature 2', 'gmm_cluster']\n",
        "df.head()\n",
        "\n",
        "view_cluster = df['gmm_cluster'].value_counts().T\n",
        "view_cluster = pd.DataFrame(data=view_cluster)\n",
        "view_cluster = view_cluster.reset_index()\n",
        "view_cluster.columns = ['gmm_cluster', 'count']\n",
        "view_cluster.sort_values(by='gmm_cluster', ascending=False)\n"
      ],
      "metadata": {
        "id": "i57vmuqzuKxL"
      },
      "execution_count": null,
      "outputs": []
    },
    {
      "cell_type": "code",
      "source": [
        "#Centerları bul gmm x\n",
        "cluster_count=len(gmm_cluster.value_counts())\n",
        "centers=[]\n",
        "for i in range(0,cluster_count-1):\n",
        "  points_of_cluster= X[labels==i,:]\n",
        "  centroid_of_cluster = np.mean(points_of_cluster, axis=0)\n",
        "  centers.append(centroid_of_cluster)\n",
        "  \n",
        "arr_center=np.array(centers)\n",
        "print(arr_center)\n",
        "plt.vlines(arr_center,0,1,color='blue')\n",
        "plt.grid()\n",
        "plt.show()"
      ],
      "metadata": {
        "id": "g-XQLe24ujZL"
      },
      "execution_count": null,
      "outputs": []
    },
    {
      "cell_type": "code",
      "source": [
        "#yler için \n",
        "Y=np.array(points_3)#orta noktaları numpy array'e çevirdim.\n",
        "gmm = GaussianMixture(n_components=8).fit(Y)\n",
        "labels_y = gmm.predict(Y)\n",
        "plt.gca().invert_yaxis()\n",
        "plt.scatter(Y[:, 0], np.zeros(len(Y[:,0])), c=labels_y, s=60,  cmap='viridis');\n",
        "\n",
        "Y_df = pd.DataFrame(Y)\n",
        "gmm_cluster = pd.DataFrame(labels_y)  \n",
        "\n",
        "df = pd.concat([Y_df, gmm_cluster], axis=1)\n",
        "df.columns = ['Feature 1', 'Feature 2', 'gmm_cluster']\n",
        "df.head()\n",
        "\n",
        "view_cluster = df['gmm_cluster'].value_counts().T\n",
        "view_cluster = pd.DataFrame(data=view_cluster)\n",
        "view_cluster = view_cluster.reset_index()\n",
        "view_cluster.columns = ['gmm_cluster', 'count']\n",
        "view_cluster.sort_values(by='gmm_cluster', ascending=False)\n"
      ],
      "metadata": {
        "id": "TLz-aCJNupDb"
      },
      "execution_count": null,
      "outputs": []
    },
    {
      "cell_type": "code",
      "source": [
        "#Centerları bul gmm Y\n",
        "cluster_count=len(gmm_cluster.value_counts())\n",
        "centers_y=[]\n",
        "for i in range(0,cluster_count-1):\n",
        "  points_of_cluster= Y[labels==i,:]\n",
        "  centroid_of_cluster = np.mean(points_of_cluster, axis=0)\n",
        "  centers_y.append(centroid_of_cluster)\n",
        "  \n",
        "arr_center_y=np.array(centers_y)\n",
        "print(arr_center_y)\n",
        "plt.hlines(arr_center_y,0,1,color='red')\n",
        "plt.grid()\n",
        "plt.show()"
      ],
      "metadata": {
        "id": "Q0jYZqP9u5fj"
      },
      "execution_count": null,
      "outputs": []
    },
    {
      "cell_type": "code",
      "source": [
        "#Aynı resim üzerinde çizimi\n",
        "\n",
        "plt.vlines(arr_center,0,1,color='blue')\n",
        "plt.hlines(arr_center_y,0,1,color='red')\n",
        "plt.grid()\n",
        "plt.show()"
      ],
      "metadata": {
        "id": "Ul2E9IJju-qz"
      },
      "execution_count": null,
      "outputs": []
    },
    {
      "cell_type": "code",
      "source": [
        "arr_lines_x=(arr_center*width)\n",
        "arr_lines_y=(arr_center_y*height)\n",
        "data_int_x = arr_lines_x.astype(int)\n",
        "data_int_y = arr_lines_y.astype(int)\n",
        "\n",
        "plt.vlines(data_int_x,2000,1,color='blue')\n",
        "plt.hlines(data_int_y,1500,1,color='red')\n",
        "\n",
        "plt.imshow(img)"
      ],
      "metadata": {
        "id": "eo_k8RKDpzcA"
      },
      "execution_count": null,
      "outputs": []
    }
  ]
}