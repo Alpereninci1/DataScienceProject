{
  "nbformat": 4,
  "nbformat_minor": 0,
  "metadata": {
    "colab": {
      "name": "EasyOcrWithPandas.ipynb",
      "provenance": []
    },
    "kernelspec": {
      "name": "python3",
      "display_name": "Python 3"
    },
    "language_info": {
      "name": "python"
    }
  },
  "cells": [
    {
      "cell_type": "code",
      "execution_count": null,
      "metadata": {
        "id": "jSEsIQKhHdEW"
      },
      "outputs": [],
      "source": [
        "!pip install torch torchvision torchaudio\n",
        "!pip install easyocr\n",
        "!pip install gmm"
      ]
    },
    {
      "cell_type": "code",
      "source": [
        "!pip uninstall opencv-python-headless==4.5.5.62 \n",
        "!pip install opencv-python-headless==4.1.2.30"
      ],
      "metadata": {
        "id": "R83QXHJ9HpdS"
      },
      "execution_count": null,
      "outputs": []
    },
    {
      "cell_type": "code",
      "source": [
        "import easyocr\n",
        "#download the model\n",
        "reader = easyocr.Reader(['tr','en'], gpu = False)"
      ],
      "metadata": {
        "id": "i616Ogb_Hswy"
      },
      "execution_count": null,
      "outputs": []
    },
    {
      "cell_type": "code",
      "source": [
        "import numpy as np\n",
        "import pandas as pd\n",
        "import math\n",
        "import matplotlib.pyplot as plt\n",
        "import matplotlib\n",
        "import matplotlib.patches as patches"
      ],
      "metadata": {
        "id": "twy8pa_4s0Cc"
      },
      "execution_count": null,
      "outputs": []
    },
    {
      "cell_type": "code",
      "source": [
        "# show an image\n",
        "import PIL\n",
        "import cv2\n",
        "from PIL import ImageDraw\n",
        "image_path='page3.jpg'\n",
        "im = PIL.Image.open(image_path)\n",
        "#im = PIL.Image.open(\"arial.ttf\")\n",
        "width,height=im.size\n",
        "\n",
        "print(width,height)\n",
        "\n",
        "im"
      ],
      "metadata": {
        "id": "ERb0wUVrHv0y"
      },
      "execution_count": null,
      "outputs": []
    },
    {
      "cell_type": "code",
      "source": [
        "bounds=reader.readtext(image_path)\n",
        "bounds"
      ],
      "metadata": {
        "id": "CV8k49BXH8fa"
      },
      "execution_count": null,
      "outputs": []
    },
    {
      "cell_type": "code",
      "source": [
        "points=[]\n",
        "for bound in bounds:\n",
        "    p0, p1, p2, p3 = bound[0]\n",
        "    arr=p0,p1,p2,p3\n",
        "    points.append(arr)\n",
        "\n",
        "points_arr=np.array(points)\n",
        "\n",
        "list_of_points=points_arr.flatten()\n",
        "\n",
        "len_bounds=len(bounds)\n",
        "\n"
      ],
      "metadata": {
        "id": "yf0MljQJi0dr"
      },
      "execution_count": null,
      "outputs": []
    },
    {
      "cell_type": "code",
      "source": [
        "list_new=list_of_points.reshape(len_bounds,8)\n",
        "df=pd.DataFrame(list_new)\n",
        "\n",
        "df"
      ],
      "metadata": {
        "id": "o8uzS4ApoE5B"
      },
      "execution_count": null,
      "outputs": []
    },
    {
      "cell_type": "code",
      "source": [
        "from sklearn.cluster import DBSCAN\n",
        "from google.colab.patches import cv2_imshow\n",
        "from PIL import Image\n",
        "from scipy.sparse import csr_matrix\n",
        "image = cv2.imread(image_path)\n",
        "X=np.array(df)\n",
        "matrix=csr_matrix(X)\n",
        "print(matrix)\n",
        "db=DBSCAN(eps=250, min_samples=5).fit(X)\n",
        "labels=db.labels_\n",
        "\n",
        "u_labels = np.unique(labels)\n",
        "print(u_labels)\n",
        "\n",
        "\n",
        "for i in u_labels:\n",
        "    plt.scatter(X[labels == i , 0] , X[labels == i , 1])\n",
        "\n",
        "plt.gca().invert_yaxis()\n",
        "plt.show()\n",
        "\n",
        "\n",
        "db_cluster = pd.DataFrame(labels)\n",
        "cluster_count=len(db_cluster.value_counts())\n",
        "\n",
        "print(cluster_count)\n",
        "\n",
        "label_points=[]\n",
        "for i in range(0,cluster_count):\n",
        "  points_of_cluster= X[labels==i,:]\n",
        "  label_points.append(points_of_cluster)\n",
        "\n",
        "arr_num=np.array(label_points)\n",
        "arr_num=arr_num.flatten()\n",
        "\n",
        "points_x1=[]\n",
        "points_y1=[]\n",
        "points_x2=[]\n",
        "points_y2=[]\n",
        "for i in range(0,len(arr_num)):\n",
        "  for j in range(0,len(arr_num[i])):\n",
        "    points_x1=arr_num[i][j][0].astype(int)\n",
        "    points_y1=arr_num[i][j][1].astype(int)\n",
        "    points_x2=arr_num[i][j][4].astype(int)\n",
        "    points_y2=arr_num[i][j][5].astype(int)\n",
        "    cv2.rectangle(image, (points_x1,points_y1), (points_x2,points_y2), (255,0,0), 2)\n",
        "\n",
        "cv2_imshow(image)\n"
      ],
      "metadata": {
        "id": "akWytNhA4_t_"
      },
      "execution_count": null,
      "outputs": []
    },
    {
      "cell_type": "code",
      "source": [
        "from sklearn.mixture import GaussianMixture\n",
        "matrix_gmm=csr_matrix(X)\n",
        "matrix_gmm=matrix_gmm.todense()\n",
        "gmm = GaussianMixture(n_components=7).fit(matrix_gmm)\n",
        "label = gmm.predict(matrix_gmm)\n",
        "\n",
        "u_labels = np.unique(label)\n",
        "print(u_labels)\n",
        "\n",
        "for i in u_labels:\n",
        "    plt.scatter(X[label== i ,0] , X[label == i ,1])\n",
        "\n",
        "plt.gca().invert_yaxis()\n",
        "plt.show()\n",
        "\n",
        "\n",
        "gmm_cluster = pd.DataFrame(label)\n",
        "cluster_count=len(gmm_cluster.value_counts())\n",
        "\n",
        "print(cluster_count)\n",
        "\n",
        "label_points=[]\n",
        "for i in range(0,cluster_count):\n",
        "  points_of_cluster= X[label==i,:]\n",
        "  label_points.append(points_of_cluster)\n",
        "\n",
        "arr_num=np.array(label_points)\n",
        "arr_num=arr_num.flatten()\n",
        "\n",
        "\n",
        "points_x1=[]\n",
        "points_y1=[]\n",
        "points_x2=[]\n",
        "points_y2=[]\n",
        "for i in range(0,len(arr_num)):\n",
        "  for j in range(0,len(arr_num[i])):\n",
        "    points_x1=arr_num[i][j][0].astype(int)\n",
        "    points_y1=arr_num[i][j][1].astype(int)\n",
        "    points_x2=arr_num[i][j][4].astype(int)\n",
        "    points_y2=arr_num[i][j][5].astype(int)\n",
        "    cv2.rectangle(image, (points_x1,points_y1), (points_x2,points_y2), (255,0,0), 2)\n",
        "\n",
        "cv2_imshow(image)"
      ],
      "metadata": {
        "id": "CIXb33D7w6Pk"
      },
      "execution_count": null,
      "outputs": []
    }
  ]
}